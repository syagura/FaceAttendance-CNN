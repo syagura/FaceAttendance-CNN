{
 "cells": [
  {
   "cell_type": "code",
   "execution_count": 7,
   "id": "4e2d1c48",
   "metadata": {},
   "outputs": [],
   "source": [
    "import cv2 as cv\n",
    "import os"
   ]
  },
  {
   "cell_type": "code",
   "execution_count": null,
   "id": "217201e0",
   "metadata": {},
   "outputs": [
    {
     "name": "stdout",
     "output_type": "stream",
     "text": [
      "Collecting Faces for Name Here is completed !!!\n"
     ]
    }
   ],
   "source": [
    "name = \"Name Here\"\n",
    "def generateData():\n",
    "\n",
    "    # define folder for dataset\n",
    "    base_folder = \"../dataset\"\n",
    "    person_folder = os.path.join(base_folder, name)\n",
    "    os.makedirs(person_folder, exist_ok=True)\n",
    "\n",
    "    # get haarcascade xml\n",
    "    face_cascade = cv.CascadeClassifier(\"../haarcascade_frontalface_default.xml\")\n",
    "    \n",
    "    def croped_face(img):\n",
    "        gray = cv.cvtColor(img, cv.COLOR_BGR2GRAY)\n",
    "        faces = face_cascade.detectMultiScale(gray, 1.3, 5)\n",
    "        \n",
    "        if len(faces) == 0:\n",
    "            return None\n",
    "        for (x, y, w, h) in faces:\n",
    "            croped = img[y:y+h, x:x+w]\n",
    "        return croped\n",
    "    \n",
    "    cap = cv.VideoCapture(0)\n",
    "    imgID = 0\n",
    "    \n",
    "    while True:\n",
    "        ret, frame = cap.read()\n",
    "        if croped_face(frame) is not None:\n",
    "            imgID += 1\n",
    "            faces = cv.resize(croped_face(frame), (200, 200))\n",
    "            faces = cv.cvtColor(faces, cv.COLOR_BGR2GRAY)\n",
    "            filePath = os.path.join(person_folder, f\"{name}.{str(imgID)}.jpg\")\n",
    "            cv.imwrite(filePath, faces)\n",
    "            cv.putText(faces, str(imgID), (50, 50), cv.FONT_HERSHEY_COMPLEX, 1, (0, 255, 0), 2)\n",
    "            \n",
    "            cv.imshow(\"Collect Data Faces\", faces)\n",
    "            if cv.waitKey(1) == 13 or int(imgID) == 1000:\n",
    "                break\n",
    "    cap.release()\n",
    "    cv.destroyAllWindows()\n",
    "    print(f\"Collecting Faces for {name} is completed !!!\")\n",
    "\n",
    "generateData()"
   ]
  },
  {
   "cell_type": "code",
   "execution_count": null,
   "id": "995c062b",
   "metadata": {},
   "outputs": [],
   "source": []
  }
 ],
 "metadata": {
  "kernelspec": {
   "display_name": "base",
   "language": "python",
   "name": "python3"
  },
  "language_info": {
   "codemirror_mode": {
    "name": "ipython",
    "version": 3
   },
   "file_extension": ".py",
   "mimetype": "text/x-python",
   "name": "python",
   "nbconvert_exporter": "python",
   "pygments_lexer": "ipython3",
   "version": "3.9.5"
  }
 },
 "nbformat": 4,
 "nbformat_minor": 5
}
