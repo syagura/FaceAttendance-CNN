{
 "cells": [
  {
   "cell_type": "markdown",
   "id": "cc092ca5",
   "metadata": {},
   "source": [
    "convert keras h.5 to Tensorflow .pb"
   ]
  },
  {
   "cell_type": "code",
   "execution_count": null,
   "id": "6f77c493",
   "metadata": {},
   "outputs": [],
   "source": [
    "import keras\n",
    "import tensorflow as tf\n",
    "print(keras.__version__)\n",
    "print(tf.__version__)"
   ]
  },
  {
   "cell_type": "code",
   "execution_count": null,
   "id": "c9084fca",
   "metadata": {},
   "outputs": [],
   "source": [
    "model = tf.keras.models.load_model(\"../Model_CNN_7class.h5\", compile=False)    "
   ]
  },
  {
   "cell_type": "code",
   "execution_count": null,
   "id": "3aa1a31d",
   "metadata": {},
   "outputs": [],
   "source": [
    "model.save(\"tf_model\")"
   ]
  },
  {
   "cell_type": "code",
   "execution_count": null,
   "id": "876270bd",
   "metadata": {},
   "outputs": [],
   "source": [
    "! dir tf_model"
   ]
  },
  {
   "cell_type": "markdown",
   "id": "5c1b0038",
   "metadata": {},
   "source": [
    " view Model graph input & Output"
   ]
  },
  {
   "cell_type": "code",
   "execution_count": null,
   "id": "7b542a5c",
   "metadata": {},
   "outputs": [],
   "source": [
    "from tensorflow.python.framework.convert_to_constants import convert_variables_to_constants_v2\n",
    "# import tensorflow.compat.v1 as tf\n",
    "from tensorflow.python.framework import graph_util"
   ]
  },
  {
   "cell_type": "code",
   "execution_count": null,
   "id": "82e886ac",
   "metadata": {},
   "outputs": [],
   "source": [
    "path = \"D:\\Kuliah\\Semester 7\\Proyek\\FaceRcognition\\FaceRecognitionCnnModel\\Optimized Model\\tf_model\"\n",
    "importer = tf.compat.v2.saved_model.load(\"tf_model/\")"
   ]
  },
  {
   "cell_type": "code",
   "execution_count": null,
   "id": "88168da1",
   "metadata": {},
   "outputs": [],
   "source": [
    "infer = importer.signatures['serving_default']"
   ]
  },
  {
   "cell_type": "code",
   "execution_count": null,
   "id": "25e2c14f",
   "metadata": {},
   "outputs": [],
   "source": [
    "f = convert_variables_to_constants_v2(infer)\n",
    "graph_def = f.graph.as_graph_def()\n",
    "\n",
    "for i in graph_def.node:\n",
    "    print(i.name, i.op)"
   ]
  },
  {
   "cell_type": "code",
   "execution_count": null,
   "id": "2ecb78c0",
   "metadata": {},
   "outputs": [],
   "source": [
    "f = convert_variables_to_constants_v2(infer)\n",
    "graph_def = f.graph.as_graph_def()\n",
    "\n",
    "graph_def"
   ]
  },
  {
   "cell_type": "markdown",
   "id": "e9373ede",
   "metadata": {},
   "source": [
    "convert Model .pb to frozen model graph .pb "
   ]
  },
  {
   "cell_type": "code",
   "execution_count": null,
   "id": "f676e234",
   "metadata": {},
   "outputs": [],
   "source": [
    "from tensorflow.python.tools import optimize_for_inference_lib"
   ]
  },
  {
   "cell_type": "code",
   "execution_count": null,
   "id": "fcb50793",
   "metadata": {},
   "outputs": [],
   "source": [
    "f = convert_variables_to_constants_v2(infer)\n",
    "graph_def = f.graph.as_graph_def()\n",
    "\n",
    "graph_def = optimize_for_inference_lib.optimize_for_inference(graph_def,\n",
    "                                                             ['conv2d_input'],\n",
    "                                                             ['Identity'],\n",
    "                                                             tf.float32.as_datatype_enum)\n",
    "\n",
    "with tf.io.gfile.GFile('frozen_graph.pb', 'wb') as f:\n",
    "    f.write(graph_def.SerializeToString())"
   ]
  },
  {
   "cell_type": "markdown",
   "id": "85025253",
   "metadata": {},
   "source": [
    "inference model using opencv DNN, open cv using new version"
   ]
  },
  {
   "cell_type": "code",
   "execution_count": null,
   "id": "8ee21bcf",
   "metadata": {},
   "outputs": [],
   "source": [
    "import os\n",
    "import cv2 as cv\n",
    "import numpy as np\n",
    "import matplotlib.pyplot as plt"
   ]
  },
  {
   "cell_type": "code",
   "execution_count": null,
   "id": "d4ae3b66",
   "metadata": {},
   "outputs": [],
   "source": [
    "cv.__version__"
   ]
  },
  {
   "cell_type": "markdown",
   "id": "39021656",
   "metadata": {},
   "source": [
    "Load model "
   ]
  },
  {
   "cell_type": "code",
   "execution_count": null,
   "id": "a14deea0",
   "metadata": {},
   "outputs": [],
   "source": [
    "labels = [\"Syahrul Gunawan Ramdhani\", \n",
    "         \"Harsel Octavian\", \n",
    "         \"Latif Ma'ruf\",\n",
    "         \"Muhammad Rizqi\",\n",
    "         \"Ravel Ariondo\",\n",
    "         \"Robi Ardiansyah\",\n",
    "         \"Tatas Handaru\"]"
   ]
  },
  {
   "cell_type": "code",
   "execution_count": null,
   "id": "d4779fdf",
   "metadata": {},
   "outputs": [],
   "source": [
    "facerecognition_model = \"frozen_graph.pb\"\n",
    "net = cv.dnn.readNet(facerecognition_model)"
   ]
  },
  {
   "cell_type": "code",
   "execution_count": null,
   "id": "03a38f87",
   "metadata": {},
   "outputs": [],
   "source": [
    "net.setPreferableBackend(cv.dnn.DNN_BACKEND_OPENCV)\n",
    "net.setPreferableTarget(cv.dnn.DNN_TARGET_CPU)"
   ]
  },
  {
   "cell_type": "code",
   "execution_count": null,
   "id": "dc189b8e",
   "metadata": {},
   "outputs": [],
   "source": [
    "layerOutput = net.getUnconnectedOutLayersNames()"
   ]
  },
  {
   "cell_type": "code",
   "execution_count": null,
   "id": "8c39b4db",
   "metadata": {},
   "outputs": [],
   "source": [
    "layerOutput"
   ]
  },
  {
   "cell_type": "markdown",
   "id": "c4c09741",
   "metadata": {},
   "source": [
    "predict image using opencv dnn"
   ]
  },
  {
   "cell_type": "code",
   "execution_count": null,
   "id": "2c507451",
   "metadata": {},
   "outputs": [],
   "source": [
    "def detectFace(img):\n",
    "#     img = cv.cvtColor(img, cv.COLOR_BGR2GRAY)\n",
    "#     img = cv.resize(img, (50,50))\n",
    "    target_size = (50, 50)\n",
    "\n",
    "    resized = cv.resize(img, target_size)\n",
    "    return resized"
   ]
  },
  {
   "cell_type": "code",
   "execution_count": null,
   "id": "6165e71e",
   "metadata": {},
   "outputs": [],
   "source": [
    "os.listdir(\"test_data/\")"
   ]
  },
  {
   "cell_type": "code",
   "execution_count": null,
   "id": "be536585",
   "metadata": {},
   "outputs": [],
   "source": [
    "img = cv.imread(\"test_data/Harsel.jpg\", cv.IMREAD_GRAYSCALE)\n",
    "img = detectFace(img)\n",
    "blob = cv.dnn.blobFromImage(img, 1.0, (50,50), (0,0,0), swapRB=True, crop=False)"
   ]
  },
  {
   "cell_type": "code",
   "execution_count": null,
   "id": "9ec130b7",
   "metadata": {},
   "outputs": [],
   "source": [
    "img.shape, blob.shape"
   ]
  },
  {
   "cell_type": "code",
   "execution_count": null,
   "id": "9bf6919b",
   "metadata": {},
   "outputs": [],
   "source": [
    "net.setInput(blob)\n",
    "output = net.forward(layerOutput)"
   ]
  },
  {
   "cell_type": "code",
   "execution_count": null,
   "id": "3bcdc86b",
   "metadata": {},
   "outputs": [],
   "source": [
    "output"
   ]
  },
  {
   "cell_type": "code",
   "execution_count": null,
   "id": "7a108273",
   "metadata": {},
   "outputs": [],
   "source": [
    "idx = output[0].argmax(axis=1)[0]\n",
    "\n",
    "confidence = output[0].max(axis=1)[0]*100"
   ]
  },
  {
   "cell_type": "code",
   "execution_count": null,
   "id": "7efb0e1e",
   "metadata": {},
   "outputs": [],
   "source": [
    "plt.imshow(img, cmap=\"gray\")\n",
    "plt.title(f\"label : {labels[idx], confidence}\")"
   ]
  },
  {
   "cell_type": "markdown",
   "id": "a970b8ee",
   "metadata": {},
   "source": [
    "Apply to Video Frame"
   ]
  },
  {
   "cell_type": "code",
   "execution_count": null,
   "id": "8c224ace",
   "metadata": {},
   "outputs": [],
   "source": [
    "def draw_ped(img, label, x0, y0, xt, yt, color=(255, 127, 0), text_color=(255, 255, 255)):\n",
    "    (w, h), baseline = cv.getTextSize(label, cv.FONT_HERSHEY_SIMPLEX, 0.5, 1)\n",
    "    cv.rectangle(img,\n",
    "                 (x0, y0 + baseline),\n",
    "                 (max(xt, x0 + w), yt),\n",
    "                 color,\n",
    "                 2)\n",
    "    \n",
    "    cv.rectangle(img, \n",
    "                 (x0, y0 -h),\n",
    "                 (x0 + w, y0 + baseline),\n",
    "                 color, \n",
    "                 -1)\n",
    "    \n",
    "    cv.putText(img,\n",
    "               label,\n",
    "               (x0, y0),\n",
    "               cv.FONT_HERSHEY_COMPLEX,\n",
    "               0.5,\n",
    "               text_color,\n",
    "               1,\n",
    "               cv.LINE_AA)\n",
    "\n",
    "    return img"
   ]
  },
  {
   "cell_type": "code",
   "execution_count": null,
   "id": "6437739a",
   "metadata": {},
   "outputs": [],
   "source": [
    "# -----load harcascade Model-----\n",
    "face_cascade = cv.CascadeClassifier('../haarcascade_frontalface_default.xml')\n",
    "\n",
    "# ------load tensorflow optimize model-----\n",
    "facerecognition_model = 'frozen_graph.pb'\n",
    "net = cv.dnn.readNet(facerecognition_model)\n",
    "net.setPreferableBackend(cv.dnn.DNN_BACKEND_OPENCV)\n",
    "net.setPreferableTarget(cv.dnn.DNN_TARGET_CPU)\n",
    "layerOutput = net.getUnconnectedOutLayersNames()\n",
    "\n",
    "cap = cv.VideoCapture(0)\n",
    "while cap.isOpened():\n",
    "    ret, frame = cap.read()\n",
    "    if ret:\n",
    "        gray = cv.cvtColor(frame, cv.COLOR_RGB2GRAY)\n",
    "        faces = face_cascade.detectMultiScale(gray, 1.1, 5)\n",
    "        for (x, y, w, h) in faces:\n",
    "            face_img = gray[y:y+h, x:x+w]\n",
    "            face_img = cv.resize(face_img, (50, 50))\n",
    "\n",
    "            blob = cv.dnn.blobFromImage(face_img, 1.0, (50, 50), (0, 0, 0), swapRB=True, crop=False)\n",
    "            net.setInput(blob)\n",
    "            output = net.forward(layerOutput)\n",
    "            idx = output[0].argmax(axis=1)[0]\n",
    "            confidence = output[0].max(axis=1)[0]*100\n",
    "\n",
    "            if confidence > 80:\n",
    "                label_text = \"%s (%.2f %%)\" % (labels[idx], confidence)\n",
    "            else:\n",
    "                label_text = \"N/A\"\n",
    "            frame = draw_ped(frame, label_text, x, y, x + h, y + h, color=(0, 255, 255), text_color=(50, 50, 50))\n",
    "        cv.imshow('Face Recognition', frame)\n",
    "    else:\n",
    "        break\n",
    "    if cv.waitKey(10) == ord('q'):\n",
    "        break\n",
    "cv.destroyAllWindows()\n",
    "cv.release()"
   ]
  },
  {
   "cell_type": "code",
   "execution_count": null,
   "id": "59e8ed24",
   "metadata": {},
   "outputs": [],
   "source": [
    "import pandas as pd\n",
    "\n",
    "labels = [\"Syahrul Gunawan Ramdhani\", \n",
    "         \"Harsel Octavian\", \n",
    "         \"Latif Maruf\",\n",
    "         \"Muhammad Rizqi\",\n",
    "         \"Ravel Ariondo\",\n",
    "         \"Robi Ardiansyah\",\n",
    "         \"Tatas Handaru\"]\n",
    "labels_df = pd.Datafr"
   ]
  }
 ],
 "metadata": {
  "kernelspec": {
   "display_name": "Python 3 (ipykernel)",
   "language": "python",
   "name": "python3"
  },
  "language_info": {
   "codemirror_mode": {
    "name": "ipython",
    "version": 3
   },
   "file_extension": ".py",
   "mimetype": "text/x-python",
   "name": "python",
   "nbconvert_exporter": "python",
   "pygments_lexer": "ipython3",
   "version": "3.9.5"
  }
 },
 "nbformat": 4,
 "nbformat_minor": 5
}
